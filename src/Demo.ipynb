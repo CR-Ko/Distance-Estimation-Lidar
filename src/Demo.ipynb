{
 "cells": [
  {
   "cell_type": "code",
   "execution_count": null,
   "metadata": {
    "ExecuteTime": {
     "end_time": "2020-06-30T03:14:41.453859Z",
     "start_time": "2020-06-30T03:14:37.036116Z"
    },
    "scrolled": false
   },
   "outputs": [],
   "source": [
    "import numpy as np\n",
    "import cv2\n",
    "import matplotlib.pyplot as plt\n",
    "import matplotlib.image as mpimg\n",
    "from tools.utils import *\n",
    "from yolo import YOLO, detect_video\n",
    "from PIL import Image\n",
    "%matplotlib inline\n",
    "\n",
    "# dict_2Dpoints # KEY = ID, VALUE = (X, Y) , all 2D points\n",
    "\n",
    "\n",
    "path = '/home/kk/Downloads/2011_09_26_drive_0005_sync/2011_09_26/2011_09_26_drive_0005_sync/'\n",
    "image_type = 'color' # 'grayscale' or 'color' image\n",
    "mode = '00' if image_type == 'grayscale' else '02'\n",
    "img = path + 'image_'+ mode +'/data/0000000100.png'\n",
    "\n",
    "def load_from_bin(bin_path):\n",
    "    obj = np.fromfile(bin_path, dtype=np.float32).reshape(-1, 4)\n",
    "    # ignore reflectivity info\n",
    "    return obj[:,:3]\n",
    "\n",
    "def load_from_bin_with_reflect(bin_path):\n",
    "    obj = np.fromfile(bin_path, dtype=np.float32).reshape(-1, 4)\n",
    "    # Do NOT ignore reflectivity info\n",
    "    return obj[:,:4]\n",
    "\n",
    "def add_velo_points_array_with_id(arr_points):\n",
    "    list_v = list(arr_points)\n",
    "    i = 0\n",
    "    list_v_id=[]\n",
    "    for v in list_v:\n",
    "        v=np.append(v, i)\n",
    "        list_v_id.append(v)\n",
    "        i=i+1\n",
    "    arr_points_id = np.array(list_v_id).astype(np.float32)\n",
    "    return arr_points_id\n",
    "\n",
    "def print_projection_plt(points, color, image):\n",
    "    \"\"\" project converted velodyne points into camera image \"\"\"\n",
    "    \n",
    "    hsv_image = cv2.cvtColor(image, cv2.COLOR_BGR2HSV)\n",
    "\n",
    "    for i in range(points.shape[1]):\n",
    "        cv2.circle(hsv_image, (np.int32(points[0][i]),np.int32(points[1][i])),2, (int(color[i]),255,255),-1)\n",
    "\n",
    "    return cv2.cvtColor(hsv_image, cv2.COLOR_HSV2RGB)"
   ]
  },
  {
   "cell_type": "code",
   "execution_count": null,
   "metadata": {
    "ExecuteTime": {
     "end_time": "2020-06-30T03:14:41.462646Z",
     "start_time": "2020-06-30T03:14:41.455942Z"
    }
   },
   "outputs": [],
   "source": [
    "# bin file -> numpy array\n",
    "# velo_points = load_from_bin(path + 'velodyne_points/data/0000000050.bin')\n",
    "# velo_points_with_ref = load_from_bin_with_reflect(path + 'velodyne_points/data/0000000050.bin')   \n",
    "\n",
    "# # Assign id for every 3d points\n",
    "# # velo_points_with_ref.shape    (122516, 4) x, y, z, r\n",
    "# # velo_points_with_ref_id.shape (122516, 5) x, y, z, r, id\n",
    "\n",
    "# velo_points_with_ref_id = add_velo_points_array_with_id(velo_points_with_ref)\n",
    "#assert  velo_points_with_ref_id.shape == (122516, 5)"
   ]
  },
  {
   "cell_type": "code",
   "execution_count": null,
   "metadata": {
    "ExecuteTime": {
     "end_time": "2020-06-30T03:14:41.471623Z",
     "start_time": "2020-06-30T03:14:41.467317Z"
    }
   },
   "outputs": [],
   "source": [
    "# for name in glob.glob(path + 'image_02/' + \"data/\" + \"*\" ):\n",
    "#     print(name)"
   ]
  },
  {
   "cell_type": "markdown",
   "metadata": {},
   "source": [
    "Cloud points to 2d points"
   ]
  },
  {
   "cell_type": "code",
   "execution_count": null,
   "metadata": {
    "ExecuteTime": {
     "end_time": "2020-06-30T03:14:41.490509Z",
     "start_time": "2020-06-30T03:14:41.476114Z"
    }
   },
   "outputs": [],
   "source": [
    "path = '/home/KITTI_Tutorial/data/2011_09_26/2011_09_26_drive_0005_sync/'\n",
    "path =  '/home/kk/Downloads/2011_09_26_drive_0005_sync/2011_09_26/2011_09_26_drive_0005_sync/'\n",
    "v2c_filepath = '/home/KITTI_Tutorial/data/2011_09_26/calib_velo_to_cam.txt'\n",
    "c2c_filepath = '/home/KITTI_Tutorial/data/2011_09_26/calib_cam_to_cam.txt'\n",
    "v2c_filepath = '/home/kk/Downloads/2011_09_26_calib/2011_09_26/calib_velo_to_cam.txt'\n",
    "c2c_filepath = '/home/kk/Downloads/2011_09_26_calib/2011_09_26/calib_cam_to_cam.txt'\n",
    "\n",
    "# bin file -> numpy array\n",
    "velo_points = load_from_bin(path + 'velodyne_points/data/0000000100.bin')\n",
    "velo_points_with_ref = load_from_bin_with_reflect(path + 'velodyne_points/data/0000000100.bin') "
   ]
  },
  {
   "cell_type": "code",
   "execution_count": null,
   "metadata": {
    "ExecuteTime": {
     "end_time": "2020-06-30T03:14:44.446016Z",
     "start_time": "2020-06-30T03:14:41.493926Z"
    }
   },
   "outputs": [],
   "source": [
    "velo_points_with_ref_id = add_velo_points_array_with_id(velo_points_with_ref)\n",
    "\n",
    "arr_2Dpoints_xyz_, c_ , arr_2Dpoints_xyzri_= velo3d_2_camera2d_points(velo_points_with_ref_id, v_fov=(-24.9, 2.0), h_fov=(-45,45), \\\n",
    "                               vc_path=v2c_filepath, cc_path=c2c_filepath, mode=mode)\n",
    "\n",
    "dict_3Dpoints = getDict3DPoints(velo_points_with_ref_id)\n",
    "\n",
    "# print(len(velo_points_with_ref_id))\n",
    "# print(len(arr_2Dpoints_xyzri_))\n",
    "# print(len(arr_2Dpoints_xyz_))\n",
    "\n",
    "# print((arr_2Dpoints_xyzri_))\n",
    "# print((arr_2Dpoints_xyz_))\n",
    "\n",
    "# dict_2Dpoints # KEY = ID, VALUE = (X, Y) , all 2D points\n",
    "def get_dict(arr_2Dpoints_xyzri_):\n",
    "    dict_r_FOV = {}\n",
    "    dict_dist_FOV = {}\n",
    "    dict_2Dpoints_FOV = {} \n",
    "    id_list = []\n",
    "    id_list = arr_2Dpoints_xyzri_[5]\n",
    "    for idx, iid in enumerate(id_list):\n",
    "        dict_2Dpoints_FOV[iid] = list()\n",
    "        dict_dist_FOV[iid] = list()\n",
    "        dict_r_FOV[iid] = list()\n",
    "        dict_2Dpoints_FOV[iid].append([arr_2Dpoints_xyzri_[0, idx], arr_2Dpoints_xyzri_[1, idx]])\n",
    "\n",
    "        dict_dist_FOV[iid].append([dict_3Dpoints[iid][4]])\n",
    "        #print([dict_3Dpoints[iid][3]])\n",
    "        dict_r_FOV[iid].append([dict_3Dpoints[iid][3]])\n",
    "    \n",
    "    return dict_2Dpoints_FOV, dict_dist_FOV, dict_r_FOV\n",
    "    \n",
    "dict_2Dpoints_FOV, dict_dist_FOV, dict_r_FOV = get_dict(arr_2Dpoints_xyzri_)    \n",
    "    \n",
    "\n",
    "    \n",
    "# dict_r_FOV = {}\n",
    "# dict_dist_FOV = {}\n",
    "# dict_2Dpoints_FOV = {} \n",
    "# id_list = []\n",
    "# id_list = arr_2Dpoints_xyzri_[5]\n",
    "# for idx, iid in enumerate(id_list):\n",
    "#     dict_2Dpoints_FOV[iid] = list()\n",
    "#     dict_dist_FOV[iid] = list()\n",
    "#     dict_r_FOV[iid] = list()\n",
    "#     dict_2Dpoints_FOV[iid].append([arr_2Dpoints_xyzri_[0, idx], arr_2Dpoints_xyzri_[1, idx]])\n",
    "    \n",
    "#     dict_dist_FOV[iid].append([dict_3Dpoints[iid][4]])\n",
    "#     #print([dict_3Dpoints[iid][3]])\n",
    "#     dict_r_FOV[iid].append([dict_3Dpoints[iid][3]])"
   ]
  },
  {
   "cell_type": "code",
   "execution_count": null,
   "metadata": {
    "ExecuteTime": {
     "end_time": "2020-06-30T03:14:44.477120Z",
     "start_time": "2020-06-30T03:14:44.448043Z"
    }
   },
   "outputs": [],
   "source": [
    "def get_2DpointsId_in_box(box, dict_2Dpoints_FOV):\n",
    "    for inx, iid in enumerate(dict_2Dpoints_FOV):\n",
    "            p = dict_2Dpoints_FOV[iid][0] # [[x, y]], p = [x, y]\n",
    "            #print(p)\n",
    "            # print(type(p))\n",
    "            if point_in_bbox_or_not(p, box):\n",
    "                    box._2DpointsId.append(iid)\n",
    "    return box\n",
    "\n",
    "# # person 0.99 (661, 179) (760, 315)\n",
    "# # 661, 179, 760-661, 315-179\n",
    "# # 662, 174, 104, 168\n",
    "\n",
    "# motorbike 0.31 (310, 187) (328, 212)\n",
    "# bicycle 0.95 (663, 241) (765, 338)\n",
    "\n",
    "\n",
    "(left, top)     = (663, 241)\n",
    "(right, bottom) = (765, 338)\n",
    "\n",
    "box = BoundingBox('person', 0.99, left, top, right-left, bottom-top)\n",
    "box = get_2DpointsId_in_box(box, dict_2Dpoints_FOV)\n",
    "print(box.predicted_class)\n",
    "# print(box.w)\n",
    "print(len(dict_2Dpoints_FOV))\n",
    "# #print((dict_2Dpoints_FOV[0]))\n",
    "print(len(box._2DpointsId))"
   ]
  },
  {
   "cell_type": "code",
   "execution_count": null,
   "metadata": {
    "ExecuteTime": {
     "end_time": "2020-06-30T03:14:44.483306Z",
     "start_time": "2020-06-30T03:14:44.479261Z"
    }
   },
   "outputs": [],
   "source": [
    "# # dict_2Dpoints_FOV_Box  key:id , value:(u, v) \n",
    "# cnt = 0\n",
    "# dict_2Dpoints_FOV_Box = {}\n",
    "# for iid in box._2DpointsId:\n",
    "#     #print(iid)\n",
    "#     cnt = cnt + 1\n",
    "#     dict_2Dpoints_FOV_Box[int(iid)] = dict_2Dpoints_FOV[iid]\n",
    "# #print((dict_2Dpoints_FOV_Box))\n",
    "\n",
    "# #dict_dist_FOV_Box\n",
    "# dict_dist_FOV_Box = {}\n",
    "# for iid in box._2DpointsId:\n",
    "#     dict_dist_FOV_Box[iid] = dict_dist_FOV[iid]\n",
    "# print(len(dict_dist_FOV_Box))\n",
    "\n",
    "# #dict_r_FOV_Box\n",
    "# dict_r_FOV_Box = {}\n",
    "# for iid in box._2DpointsId:\n",
    "#     dict_r_FOV_Box[iid] = dict_r_FOV[iid]\n",
    "# print(len(dict_r_FOV_Box))\n",
    "\n",
    "# list_2Dpoints_Box = []\n",
    "# list_dist_Box     = []\n",
    "# list_r_Box        = []\n",
    "# for iid in box._2DpointsId:\n",
    "#     list_2Dpoints_Box.append(dict_2Dpoints_FOV_Box[iid])\n",
    "#     list_dist_Box.append(dict_dist_FOV_Box[iid])\n",
    "#     list_r_Box.append(dict_r_FOV_Box[iid])\n",
    "    \n",
    "    \n",
    "# arr_2Dpoints_Box = np.array(list_2Dpoints_Box)\n",
    "# arr_dist_Box     = np.array(list_dist_Box)\n",
    "# arr_r_Box        = np.array(list_r_Box) \n",
    "# len(arr_2Dpoints_Box)\n",
    "\n",
    "# n_points = len(arr_2Dpoints_Box)\n",
    "# print(n_points)"
   ]
  },
  {
   "cell_type": "code",
   "execution_count": null,
   "metadata": {
    "ExecuteTime": {
     "end_time": "2020-06-30T03:14:44.503321Z",
     "start_time": "2020-06-30T03:14:44.488593Z"
    }
   },
   "outputs": [],
   "source": [
    "def get_point_in_box(box, dict_2Dpoints_FOV, dict_dist_FOV, dict_r_FOV):\n",
    "    # dict_2Dpoints_FOV_Box  key:id , value:(u, v) \n",
    "    \n",
    "    cnt = 0\n",
    "    dict_2Dpoints_FOV_Box = {}\n",
    "    for iid in box._2DpointsId:\n",
    "        #print(iid)\n",
    "        cnt = cnt + 1\n",
    "        dict_2Dpoints_FOV_Box[int(iid)] = dict_2Dpoints_FOV[iid]\n",
    "    #print((dict_2Dpoints_FOV_Box))\n",
    "\n",
    "    #dict_dist_FOV_Box\n",
    "    dict_dist_FOV_Box = {}\n",
    "    for iid in box._2DpointsId:\n",
    "        dict_dist_FOV_Box[iid] = dict_dist_FOV[iid]\n",
    "    print(len(dict_dist_FOV_Box))\n",
    "\n",
    "    #dict_r_FOV_Box\n",
    "    dict_r_FOV_Box = {}\n",
    "    for iid in box._2DpointsId:\n",
    "        dict_r_FOV_Box[iid] = dict_r_FOV[iid]\n",
    "    print(len(dict_r_FOV_Box))\n",
    "\n",
    "    list_2Dpoints_Box = []\n",
    "    list_dist_Box     = []\n",
    "    list_r_Box        = []\n",
    "    for iid in box._2DpointsId:\n",
    "        list_2Dpoints_Box.append(dict_2Dpoints_FOV_Box[iid])\n",
    "        list_dist_Box.append(dict_dist_FOV_Box[iid])\n",
    "        list_r_Box.append(dict_r_FOV_Box[iid])\n",
    "\n",
    "    arr_2Dpoints_Box = np.array(list_2Dpoints_Box)\n",
    "    arr_dist_Box     = np.array(list_dist_Box)\n",
    "    arr_r_Box        = np.array(list_r_Box) \n",
    "    len(arr_2Dpoints_Box)\n",
    "\n",
    "    n_points = len(arr_2Dpoints_Box)\n",
    "    print(n_points)\n",
    "    \n",
    "    return arr_2Dpoints_Box, dict_2Dpoints_FOV_Box, dict_dist_FOV_Box\n",
    "    \n",
    "###\n",
    "\n",
    "arr_2Dpoints_Box, dict_2Dpoints_FOV_Box, dict_dist_FOV_Box = get_point_in_box(box, dict_2Dpoints_FOV, dict_dist_FOV, dict_r_FOV)\n",
    "\n",
    "# print(len(arr_2Dpoints_Box))\n",
    "# print((arr_2Dpoints_Box))"
   ]
  },
  {
   "cell_type": "code",
   "execution_count": null,
   "metadata": {
    "ExecuteTime": {
     "end_time": "2020-06-30T03:14:45.990472Z",
     "start_time": "2020-06-30T03:14:44.506768Z"
    }
   },
   "outputs": [],
   "source": [
    "from tools.utils import *\n",
    "# divid_bins = 2 \n",
    "# n_points_threshold = 1000\n",
    "# print(len(dict_dist_FOV_Box))\n",
    "# print(len(dict_2Dpoints_FOV_Box))\n",
    "# print(len(dict_3Dpoints))\n",
    "\n",
    "# Key operation \n",
    "#, dist, uvd_list\n",
    "arr_top  = get_uv_dist_from_box(box, dict_3Dpoints, dict_2Dpoints_FOV_Box, dict_dist_FOV_Box, divid_bins=2, n_points_threshold=500)\n",
    "print(arr_top)\n",
    "#uc , vc, xmid, ymid = estimate_shape_center(box, dist, dict_2Dpoints_FOV_Box, dict_dist_FOV_Box)"
   ]
  },
  {
   "cell_type": "markdown",
   "metadata": {},
   "source": [
    "# Image about distance"
   ]
  },
  {
   "cell_type": "code",
   "execution_count": null,
   "metadata": {
    "ExecuteTime": {
     "end_time": "2020-06-30T03:14:45.996500Z",
     "start_time": "2020-06-30T03:14:45.993615Z"
    },
    "scrolled": true
   },
   "outputs": [],
   "source": [
    "## Test detector\n",
    "# from tools.utils import *\n",
    "\n",
    "# def detector(yolo, img, dict_2Dpoints_FOV, arr_2Dpoints_xyzri_, dict_3Dpoints):\n",
    "#     image = Image.open(img)\n",
    "#     print(image)\n",
    "    \n",
    "#     r_image = yolo.detect_image(image, dict_2Dpoints_FOV, arr_2Dpoints_xyzri_, dict_3Dpoints)\n",
    "#     r_image.show()\n",
    "\n",
    "#     yolo.close_session()\n",
    "\n",
    "\n",
    "# detector(YOLO(), img, dict_2Dpoints_FOV, arr_2Dpoints_xyzri_, dict_3Dpoints)"
   ]
  },
  {
   "cell_type": "markdown",
   "metadata": {},
   "source": [
    "# Video about distance"
   ]
  },
  {
   "cell_type": "code",
   "execution_count": null,
   "metadata": {
    "ExecuteTime": {
     "start_time": "2020-06-30T03:14:37.205Z"
    },
    "scrolled": false
   },
   "outputs": [],
   "source": [
    "video_path = '/home/kk/Work/MegaDepth_Tensorflow/video/video_from_images_KITTI.avi'\n",
    "output_path=\"/home/kk/Downloads/tt.avi\" # test3 is image with 3d points on it first and then detection.\n",
    "detect_video(YOLO(), video_path, output_path, dict_2Dpoints_FOV, arr_2Dpoints_xyzri_, dict_3Dpoints)"
   ]
  },
  {
   "cell_type": "code",
   "execution_count": null,
   "metadata": {},
   "outputs": [],
   "source": []
  }
 ],
 "metadata": {
  "kernelspec": {
   "display_name": "Python 3",
   "language": "python",
   "name": "python3"
  },
  "language_info": {
   "codemirror_mode": {
    "name": "ipython",
    "version": 3
   },
   "file_extension": ".py",
   "mimetype": "text/x-python",
   "name": "python",
   "nbconvert_exporter": "python",
   "pygments_lexer": "ipython3",
   "version": "3.7.3"
  },
  "latex_envs": {
   "LaTeX_envs_menu_present": true,
   "autoclose": false,
   "autocomplete": true,
   "bibliofile": "biblio.bib",
   "cite_by": "apalike",
   "current_citInitial": 1,
   "eqLabelWithNumbers": true,
   "eqNumInitial": 1,
   "hotkeys": {
    "equation": "Ctrl-E",
    "itemize": "Ctrl-I"
   },
   "labels_anchors": false,
   "latex_user_defs": false,
   "report_style_numbering": false,
   "user_envs_cfg": false
  },
  "toc": {
   "base_numbering": 1,
   "nav_menu": {},
   "number_sections": true,
   "sideBar": true,
   "skip_h1_title": false,
   "title_cell": "Table of Contents",
   "title_sidebar": "Contents",
   "toc_cell": false,
   "toc_position": {},
   "toc_section_display": true,
   "toc_window_display": false
  }
 },
 "nbformat": 4,
 "nbformat_minor": 2
}
