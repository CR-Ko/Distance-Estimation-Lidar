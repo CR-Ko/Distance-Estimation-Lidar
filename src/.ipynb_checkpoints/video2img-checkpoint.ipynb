{
 "cells": [
  {
   "cell_type": "code",
   "execution_count": null,
   "metadata": {
    "ExecuteTime": {
     "end_time": "2020-06-16T06:21:47.914962Z",
     "start_time": "2020-06-16T06:21:41.766173Z"
    }
   },
   "outputs": [],
   "source": [
    "import cv2\n",
    "video_path = '/home/kk/Work/MegaDepth_Tensorflow/video/video_from_images_KITTI.avi'\n",
    "vid = cv2.VideoCapture(video_path)\n",
    "#print(vid.read())\n",
    "success, frame = vid.read()\n",
    "cnt = 0\n",
    "success = True\n",
    "image_path = '/home/kk/Work/lidar_camera_distance_analysis/ko/image/'\n",
    "while success:\n",
    "    success,image = vid.read()\n",
    "    #print('Read a new frame: ', success)\n",
    "    name = '0000000'+ \"{:03}\".format(cnt)\n",
    "    name = image_path + name + '.png'\n",
    "    #print('name: ', name)\n",
    "    cv2.imwrite(name, image)\n",
    "    cnt += 1"
   ]
  },
  {
   "cell_type": "markdown",
   "metadata": {},
   "source": [
    "# image2video"
   ]
  },
  {
   "cell_type": "code",
   "execution_count": null,
   "metadata": {},
   "outputs": [],
   "source": [
    "import numpy as np\n",
    "import cv2\n",
    "import matplotlib.pyplot as plt\n",
    "import matplotlib.image as mpimg\n",
    "from tools.utils import *\n",
    "%matplotlib inline\n",
    "\n",
    "image_type = 'color' # 'grayscale' or 'color' image\n",
    "mode = '00' if image_type == 'grayscale' else '02'\n",
    "v2c_filepath = '/home/kk/Downloads/2011_09_26_calib/2011_09_26/calib_velo_to_cam.txt'\n",
    "c2c_filepath = '/home/kk/Downloads/2011_09_26_calib/2011_09_26/calib_cam_to_cam.txt'\n",
    "\n"
   ]
  },
  {
   "cell_type": "code",
   "execution_count": 6,
   "metadata": {
    "ExecuteTime": {
     "end_time": "2020-06-17T06:22:10.322428Z",
     "start_time": "2020-06-17T06:22:06.695382Z"
    }
   },
   "outputs": [],
   "source": [
    "import cv2\n",
    "import numpy as np\n",
    "import glob, os\n",
    "\n",
    "image_path = '/home/kk/Work/lidar_camera_distance_analysis/ko/image/'\n",
    "cnt = 0\n",
    "img_array = []\n",
    "for filename in sorted(glob.glob(image_path + '*.png')):\n",
    "    img = cv2.imread(filename)\n",
    "#     height, width, layers = img.shape\n",
    "#     size = (width,height)\n",
    "#     img_array.append(img)\n",
    "    \n",
    "    name = '0000000'+ \"{:03}\".format(cnt)\n",
    "    name = name + '.bin'\n",
    "    path =  '/home/kk/Downloads/2011_09_26_drive_0005_sync/2011_09_26/2011_09_26_drive_0005_sync/'\n",
    "    velo_points = load_from_bin(path + 'velodyne_points/data/' + name)\n",
    "    velo_points_with_ref = load_from_bin_with_reflect(path + 'velodyne_points/data/' + name) \n",
    "    velo_points_with_ref_id = add_velo_points_array_with_id(velo_points_with_ref)\n",
    "    \n",
    "    ans, c_, ans_ri= velo3d_2_camera2d_points(velo_points_with_ref_id, v_fov=(-24.9, 2.0), h_fov=(-45,45), \\\n",
    "                               vc_path=v2c_filepath, cc_path=c2c_filepath, mode=mode)\n",
    "    \n",
    "    img = print_projection_plt(points=ans_ri, color=c_, image=img)\n",
    "    height, width, layers = img.shape\n",
    "    size = (width,height)\n",
    "    img_array.append(img)\n",
    "    cnt=cnt+1\n",
    " \n",
    "out = cv2.VideoWriter('./project.avi',cv2.VideoWriter_fourcc(*'DIVX'), 15, size)\n",
    " \n",
    "for i in range(len(img_array)):\n",
    "    out.write(img_array[i])\n",
    "out.release()"
   ]
  },
  {
   "cell_type": "code",
   "execution_count": null,
   "metadata": {},
   "outputs": [],
   "source": []
  }
 ],
 "metadata": {
  "kernelspec": {
   "display_name": "Python 3",
   "language": "python",
   "name": "python3"
  },
  "language_info": {
   "codemirror_mode": {
    "name": "ipython",
    "version": 3
   },
   "file_extension": ".py",
   "mimetype": "text/x-python",
   "name": "python",
   "nbconvert_exporter": "python",
   "pygments_lexer": "ipython3",
   "version": "3.7.3"
  },
  "latex_envs": {
   "LaTeX_envs_menu_present": true,
   "autoclose": false,
   "autocomplete": true,
   "bibliofile": "biblio.bib",
   "cite_by": "apalike",
   "current_citInitial": 1,
   "eqLabelWithNumbers": true,
   "eqNumInitial": 1,
   "hotkeys": {
    "equation": "Ctrl-E",
    "itemize": "Ctrl-I"
   },
   "labels_anchors": false,
   "latex_user_defs": false,
   "report_style_numbering": false,
   "user_envs_cfg": false
  },
  "toc": {
   "base_numbering": 1,
   "nav_menu": {},
   "number_sections": true,
   "sideBar": true,
   "skip_h1_title": false,
   "title_cell": "Table of Contents",
   "title_sidebar": "Contents",
   "toc_cell": false,
   "toc_position": {},
   "toc_section_display": true,
   "toc_window_display": false
  }
 },
 "nbformat": 4,
 "nbformat_minor": 2
}
